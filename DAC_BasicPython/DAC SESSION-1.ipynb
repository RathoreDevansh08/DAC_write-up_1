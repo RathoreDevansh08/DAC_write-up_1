{
 "cells": [
  {
   "cell_type": "markdown",
   "metadata": {},
   "source": [
    "# --------------------------  DATA ANALYSIS SESSION 1---------------------------------\n",
    "\n",
    "\n",
    "# PYTHON Vs OTHER PROGRAMMING LANGUAGES:\n",
    "\n",
    "Python is a high-level, general purpose dynamic programming language and offer some interseting features like BROADCASTING, easy DATA VISUALISATION, diverse DATA MANIPULATION, ......\n",
    "Python is an object oriented programming language, which is both flexible and dynamic. It involves lesser lines of code and also takes time to complete a job. \n",
    "Most explicitly it provides enhanced frameworks and extensive libraries which makes it easy to implement.\n",
    "\n",
    "# IMPORTANT LIBRARIES:\n",
    "\n",
    "NUMPY, MATPLOTLIB, PANDAS, SCIKIT-LEARN, SEABORN, IPYTHON\n",
    "While important frameworks consist of TENSORFLOW, KERAS\n",
    "\n",
    "# VARIABLES AND TYPECASTING:\n",
    "Python has five standard Data Types:\n",
    "\n",
    "    Numbers\n",
    "    String\n",
    "    List\n",
    "    Tuple\n",
    "    Dictionary\n",
    "    \n",
    "    \n",
    "NOTE: Input by default is a string    \n",
    "1. Numbers : Int(signed integer) , Long(can also be represented in octal and hexadecimal) , Float(floating point real numbers) , Complex(integer ranging from 0 to 255).\n"
   ]
  },
  {
   "cell_type": "code",
   "execution_count": null,
   "metadata": {},
   "outputs": [],
   "source": [
    "#import cmath\n",
    "\n",
    "x = int(input(\"Enter an integer here:\")) #INTEGER INPUT\n",
    "print(x)\n",
    "y = float(input(\"Enter a float here:\"))   #FLOAT INPUT\n",
    "print(y)\n",
    "z = complex(input(\"Enter a complex no here:\"))   #COMPLEX INPUT\n",
    "print(z)\n",
    "print(z.real)\n",
    "print(z.imag)"
   ]
  },
  {
   "cell_type": "markdown",
   "metadata": {},
   "source": [
    "2. String : It is a dynamic character array.\n",
    "It's main methods include: count(), find(), index(), isdigit(), isalpha(), islower(), lower()."
   ]
  },
  {
   "cell_type": "code",
   "execution_count": null,
   "metadata": {},
   "outputs": [],
   "source": [
    "str = input(\"Enter a string here:\")\n",
    "print(str.count('a'))    # no. of times 'a' occured\n",
    "print(str.find('a'))\n",
    "print(str.index('a'))\n",
    "print(str.isalpha())     # checks if all are alphabets\n",
    "print(str.isupper())     #checks if all are in uppercase\n",
    "print(str.lower())       #converts all in lowercase"
   ]
  },
  {
   "cell_type": "markdown",
   "metadata": {},
   "source": [
    "Advancements in string:"
   ]
  },
  {
   "cell_type": "code",
   "execution_count": null,
   "metadata": {},
   "outputs": [],
   "source": [
    "str2 = \" abcd\"\n",
    "print(str+str2)  #string concatenation\n",
    "print(len(str))  #printing length of string\n",
    "print(type(str2))  #printing data type\n",
    "print(str[1])\n",
    "print(str[-2])\n",
    "print(type(str[1]))\n",
    "      \n",
    "s= \"11 23 19\"\n",
    "s2= \"19231410\"\n",
    "print(s.split())   #splitting string according to spaces\n",
    "print(s2.split())\n",
    "\n",
    "print(\"data\"*5)"
   ]
  },
  {
   "cell_type": "markdown",
   "metadata": {},
   "source": [
    "3. List: datatype which can be written as a list of comma seperated items, items of list need not be of same type\n",
    "\n",
    "NOTE:\n",
    "Strings are \"immutable\" - we cannot change the contents of a string - we must make a new string to make any change\n",
    "Lists are \"mutable\" - we can change an element of a list using the index operator"
   ]
  },
  {
   "cell_type": "code",
   "execution_count": null,
   "metadata": {},
   "outputs": [],
   "source": [
    "a=[1, \"abc\", \"iit\", \"1\", \"student\", 0.007] #defining a list\n",
    "print(a)\n",
    "print(a[2])\n",
    "print(\"length of list: \",len(a))\n",
    "print(\"a[1:4]:\",a[1:4])\n",
    "print(a[3:])\n",
    "print(4 in a)\n",
    "a.append(\"abc\")       #adding elements in a list\n",
    "b=[2,5,1,3,8]\n",
    "b.sort()              #sorting in ascending order\n",
    "a.reverse()           #printing elemnts in reverse order\n",
    "print(a)\n",
    "print(b)"
   ]
  },
  {
   "cell_type": "markdown",
   "metadata": {},
   "source": [
    "4. Tuple: immutable, once you create a tuple, you cannot alter its contents\n",
    "\n",
    "Since Python does not have to build tuple structures to be modifiable, they are simpler and more efficient in terms of memory use and performance than lists\n",
    "\n",
    "tuples are comparable"
   ]
  },
  {
   "cell_type": "code",
   "execution_count": null,
   "metadata": {},
   "outputs": [],
   "source": [
    "x = ('Glenn', 'Sally', 'Joseph')        #defining tuple\n",
    "print x[2]\n",
    "y=('1','2','3')\n",
    "print max(y)                            #printing max element in python\n",
    "print((0, 1, 2) < (5, 1, 2))            #comparing tuples\n",
    "print(( 'Jones', 'Sally' ) < ('Jones', 'Sam'))"
   ]
  },
  {
   "cell_type": "markdown",
   "metadata": {},
   "source": [
    "5. Dictionary: \n",
    "Dictionaries are a complex data structure that stores pairs of values. A pair consists of a key and a value. Each key can be in the dictionary only once.\n",
    "Dictionaries are like sets: order is unpredictable!\n",
    "Dictionaries are indexed by keys, not by digits indicating position as in lists"
   ]
  },
  {
   "cell_type": "code",
   "execution_count": null,
   "metadata": {},
   "outputs": [],
   "source": [
    "lex = { }\n",
    "# empty dictionary\n",
    "lex = { 'man' : ' Mann' , 'woman' : ' Fraud' ,'child ': 'kind ' , 'dog' : 'bulldog' }\n",
    "lex['dog'] = 'Houl' # change an element\n",
    "lex['cat'] = 'Katze' # add an element\n",
    "print(lex['woman']) # access an element\n",
    "\n",
    "print(lex.values())    #extracting elements from list\n",
    "print(lex.keys())\n",
    "print(lex.items())"
   ]
  },
  {
   "cell_type": "markdown",
   "metadata": {},
   "source": [
    "# CONDITIONAL STATEMENTS AND COMPARISIONS:"
   ]
  },
  {
   "cell_type": "code",
   "execution_count": null,
   "metadata": {},
   "outputs": [],
   "source": [
    "print(3==4)\n",
    "\"\"\"if( _condition1_ ):\n",
    "..some statements..\n",
    "..some statements..\n",
    "elif( _condition2_ ):\n",
    "..some statements..\n",
    "..some statements..\n",
    "elif(_condition3_):\n",
    "..some statements..\n",
    "..some statements..\n",
    "else :\n",
    "..some statements..\n",
    "..some statements..\"\"\"\n",
    "a=5\n",
    "c=\"sachin\"\n",
    "d=\"%$#@!\"\n",
    "if a==4:\n",
    "    print(a)\n",
    "elif a>4:\n",
    "    print(c)\n",
    "else:\n",
    "    print(d)"
   ]
  },
  {
   "cell_type": "markdown",
   "metadata": {},
   "source": [
    "# LOOPS:\n",
    "\n",
    "loops are used for iterative purposes when we have to repeat a process under boundary conditions"
   ]
  },
  {
   "cell_type": "code",
   "execution_count": null,
   "metadata": {},
   "outputs": [],
   "source": [
    "#while loop:\n",
    "N = int(input(\"Enter the number: \"))\n",
    "i=1\n",
    "while(i<=10):\n",
    "print(N*i)\n",
    "i = i+1\n",
    "\n",
    "#for loop:\n",
    "N = int(input(\"Enter the number:\"))\n",
    "for i in range(1,11):\n",
    "print(N*i)\n"
   ]
  },
  {
   "cell_type": "code",
   "execution_count": null,
   "metadata": {},
   "outputs": [],
   "source": [
    "#for loop advance\n",
    "for i in range(5):\n",
    "    print(i*i, end=\" \")\n",
    "print()\n",
    "for i in range(3,5):\n",
    "    print(i*i, end=\" \") \n",
    "print()\n",
    "for i in range(1,10,2):\n",
    "    print(i*i, end=\" \")\n",
    "print()\n",
    "for i in \"Dictionary\":\n",
    "    print(i, end=\" \")\n",
    "    \n",
    "#loop over lists\n",
    "fruits=[\"apple\",\"cherry\",\"guava\"]\n",
    "print()\n",
    "for x in fruits:\n",
    "    print(x, end=\" \")"
   ]
  },
  {
   "cell_type": "code",
   "execution_count": null,
   "metadata": {},
   "outputs": [],
   "source": [
    "#loop in dictionary\n",
    "lex = { 'man' : ' Mann' , 'woman' : ' Fraud' ,'child ': 'kind ' , 'dog' : 'bulldog' }\n",
    "for i in lex:\n",
    "    print(lex[i])"
   ]
  },
  {
   "cell_type": "code",
   "execution_count": null,
   "metadata": {},
   "outputs": [],
   "source": [
    "#iterative filling of lists\n",
    "x=[]\n",
    "x=[i**3 for i in range(10)]\n",
    "print(x)"
   ]
  },
  {
   "cell_type": "markdown",
   "metadata": {},
   "source": [
    "# FUNCTIONS IN PYTHON: \n",
    "For defining a certain fixed job/task in a frame "
   ]
  },
  {
   "cell_type": "code",
   "execution_count": null,
   "metadata": {},
   "outputs": [],
   "source": [
    "def power(a,b):   #declaration of a function\n",
    "    return a**b\n",
    "\n",
    "print(power(2,3))  #function call\n",
    "\n",
    "\n",
    "def divide(a,b):\n",
    "    if b==0:\n",
    "        return -1\n",
    "    else:\n",
    "        return a//b\n",
    "        \n",
    "print(divide(30,8))"
   ]
  },
  {
   "cell_type": "markdown",
   "metadata": {},
   "source": [
    "# CLASSES IN PYTHON:\n",
    "\n",
    "Python is an object oriented programminglanguage, this means that almost all the code is implemented using a special construct called classes. Programmers use classes to keep related things together.A class is a code template for creating objects. Objects have member variables and have behaviour associated with them."
   ]
  },
  {
   "cell_type": "code",
   "execution_count": null,
   "metadata": {},
   "outputs": [],
   "source": [
    "class my_class:\n",
    "    \"this is first session\"\n",
    "    a=10\n",
    "    def func(self):\n",
    "        print(\"hello DAC\")\n",
    "        \n",
    "print(my_class.a)\n",
    "print(my_class.func)\n",
    "print(my_class.__doc__)"
   ]
  },
  {
   "cell_type": "markdown",
   "metadata": {},
   "source": [
    "# THANK YOU"
   ]
  }
 ],
 "metadata": {
  "kernelspec": {
   "display_name": "Python 3",
   "language": "python",
   "name": "python3"
  },
  "language_info": {
   "codemirror_mode": {
    "name": "ipython",
    "version": 3
   },
   "file_extension": ".py",
   "mimetype": "text/x-python",
   "name": "python",
   "nbconvert_exporter": "python",
   "pygments_lexer": "ipython3",
   "version": "3.5.4"
  }
 },
 "nbformat": 4,
 "nbformat_minor": 2
}
